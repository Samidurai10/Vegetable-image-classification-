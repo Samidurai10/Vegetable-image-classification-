{
 "cells": [
  {
   "cell_type": "code",
   "execution_count": 1,
   "id": "3ea6f110",
   "metadata": {},
   "outputs": [],
   "source": [
    "from flask import Flask,request,render_template\n",
    "from tensorflow.keras.models import load_model\n",
    "from tensorflow.keras.preprocessing.image import img_to_array,load_img\n",
    "from keras.applications.inception_v3 import preprocess_input\n",
    "import numpy as np"
   ]
  },
  {
   "cell_type": "code",
   "execution_count": null,
   "id": "e18be846",
   "metadata": {},
   "outputs": [
    {
     "name": "stdout",
     "output_type": "stream",
     "text": [
      " * Serving Flask app \"__main__\" (lazy loading)\n",
      " * Environment: production\n",
      "   WARNING: This is a development server. Do not use it in a production deployment.\n",
      "   Use a production WSGI server instead.\n",
      " * Debug mode: off\n"
     ]
    },
    {
     "name": "stderr",
     "output_type": "stream",
     "text": [
      " * Running on http://127.0.0.1:5000/ (Press CTRL+C to quit)\n",
      "127.0.0.1 - - [01/Jan/2023 16:32:08] \"\u001b[37mGET / HTTP/1.1\u001b[0m\" 200 -\n"
     ]
    },
    {
     "name": "stdout",
     "output_type": "stream",
     "text": [
      "1/1 [==============================] - 3s 3s/step\n"
     ]
    },
    {
     "name": "stderr",
     "output_type": "stream",
     "text": [
      "127.0.0.1 - - [01/Jan/2023 16:32:34] \"\u001b[37mPOST /submit HTTP/1.1\u001b[0m\" 200 -\n"
     ]
    }
   ],
   "source": [
    "from flask import Flask, render_template, request\n",
    "from keras.models import load_model\n",
    "from keras.preprocessing import image\n",
    "\n",
    "app = Flask(__name__,template_folder='template')\n",
    "\n",
    "\n",
    "lis=['Bean','Bitter_Gourd','Bottle_Gourd','Brinjal','Broccoli','Cabbage','Capsicum','Carrot','Cauliflower','Cucumber',\n",
    "         'Papaya','Potato','Pumpkin','Radish','Tomato']\n",
    "\n",
    "\n",
    "model = load_model('best_model(1).h5')\n",
    "\n",
    "model.make_predict_function()\n",
    "\n",
    "# routes\n",
    "@app.route(\"/\", methods=['GET', 'POST'])\n",
    "def main():\n",
    "    return render_template(\"index1.html\")\n",
    "\n",
    "@app.route(\"/submit\", methods = ['GET', 'POST'])\n",
    "def get_output():\n",
    "        img = request.files['file']\n",
    "\n",
    "        img_path = \"image/\" + img.filename\n",
    "        img.save(img_path)\n",
    "        inp = load_img(img_path, target_size=(224,224))\n",
    "        arr = img_to_array(inp)\n",
    "        rsh = arr.reshape(1, 224,224,3)\n",
    "        pre = np.argmax(model.predict(rsh))\n",
    "        output = lis[pre]\n",
    "        img_path1='/'+img_path\n",
    "        return render_template(\"index1.html\",prediction =\"{}\".format(output),img_path=img_path1)\n",
    "\n",
    "\n",
    "if __name__ =='__main__':\n",
    "    #app.debug = True\n",
    "    app.run(debug = False)"
   ]
  },
  {
   "cell_type": "code",
   "execution_count": null,
   "id": "f148fa53",
   "metadata": {},
   "outputs": [],
   "source": []
  }
 ],
 "metadata": {
  "kernelspec": {
   "display_name": "Python 3",
   "language": "python",
   "name": "python3"
  },
  "language_info": {
   "codemirror_mode": {
    "name": "ipython",
    "version": 3
   },
   "file_extension": ".py",
   "mimetype": "text/x-python",
   "name": "python",
   "nbconvert_exporter": "python",
   "pygments_lexer": "ipython3",
   "version": "3.8.8"
  }
 },
 "nbformat": 4,
 "nbformat_minor": 5
}
